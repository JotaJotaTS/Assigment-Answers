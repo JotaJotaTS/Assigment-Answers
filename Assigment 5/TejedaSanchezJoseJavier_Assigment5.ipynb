{
 "cells": [
  {
   "cell_type": "code",
   "execution_count": 1,
   "metadata": {},
   "outputs": [
    {
     "data": {
      "text/html": [
       "<div class=\"krn-spql\"><div class=\"magic\">Endpoint set to: http://sparql.uniprot.org/sparql</div><div class=\"magic\">Request format: JSON</div></div>"
      ],
      "text/plain": [
       "Endpoint set to: http://sparql.uniprot.org/sparql\n",
       "Request format: JSON\n"
      ]
     },
     "metadata": {},
     "output_type": "display_data"
    }
   ],
   "source": [
    "%endpoint http://sparql.uniprot.org/sparql\n",
    "%format JSON"
   ]
  },
  {
   "cell_type": "markdown",
   "metadata": {},
   "source": [
    "### 1. How many protein records are in UniProt?"
   ]
  },
  {
   "cell_type": "code",
   "execution_count": 60,
   "metadata": {},
   "outputs": [
    {
     "data": {
      "text/html": [
       "<div class=\"krn-spql\"><table><tr class=hdr><th>Total_Proteins</th></tr><tr class=odd><td class=val>378979161</td></tr></table><div class=\"tinfo\">Total: 1, Shown: 1</div></div>"
      ]
     },
     "metadata": {},
     "output_type": "display_data"
    }
   ],
   "source": [
    "prefix core:<http://purl.uniprot.org/core/> \n",
    "select (count(?protein) as ?Total_Proteins)\n",
    "where{ \n",
    "    \n",
    "    ?protein a core:Protein. \n",
    "}\n"
   ]
  },
  {
   "cell_type": "markdown",
   "metadata": {},
   "source": [
    "### 2. How many Arabidopsis thaliana protein records are in UniProt?"
   ]
  },
  {
   "cell_type": "code",
   "execution_count": 61,
   "metadata": {},
   "outputs": [
    {
     "data": {
      "text/html": [
       "<div class=\"krn-spql\"><table><tr class=hdr><th>Total_Proteins_in_Arabidopsis_thaliana</th></tr><tr class=odd><td class=val>136447</td></tr></table><div class=\"tinfo\">Total: 1, Shown: 1</div></div>"
      ]
     },
     "metadata": {},
     "output_type": "display_data"
    }
   ],
   "source": [
    "prefix core:<http://purl.uniprot.org/core/> \n",
    "prefix tax:<http://purl.uniprot.org/taxonomy/>\n",
    "\n",
    "select (count(?protein) as ?Total_Proteins_in_Arabidopsis_thaliana)\n",
    "where{ \n",
    "    ?protein a core:Protein . \n",
    "    ?protein core:organism tax:3702 . \n",
    "    }\n"
   ]
  },
  {
   "cell_type": "markdown",
   "metadata": {},
   "source": [
    "### 3. Retrieve pictures of Arabidopsis thaliana from UniProt?"
   ]
  },
  {
   "cell_type": "code",
   "execution_count": 62,
   "metadata": {},
   "outputs": [
    {
     "data": {
      "text/html": [
       "<div class=\"krn-spql\"><table><tr class=hdr><th>organism</th>\n",
       "<th>Picture_URL</th></tr><tr class=odd><td class=val>Arabidopsis thaliana</td>\n",
       "<td class=val><a href=\"https://upload.wikimedia.org/wikipedia/commons/3/39/Arabidopsis.jpg\" target=\"_other\">https://upload.wikimedia.org/wikipedia/commons/3/39/Arabidopsis.jpg</a></td></tr><tr class=even><td class=val>Arabidopsis thaliana</td>\n",
       "<td class=val><a href=\"https://upload.wikimedia.org/wikipedia/commons/thumb/6/60/Arabidopsis_thaliana_inflorescencias.jpg/800px-Arabidopsis_thaliana_inflorescencias.jpg\" target=\"_other\">https://upload.wikimedia.org/wikipedia/commons/thumb/6/60/Arabidopsis_thaliana_inflorescencias.jpg/800px-Arabidopsis_thaliana_inflorescencias.jpg</a></td></tr></table><div class=\"tinfo\">Total: 2, Shown: 2</div></div>"
      ]
     },
     "metadata": {},
     "output_type": "display_data"
    }
   ],
   "source": [
    "prefix foaf: <http://xmlns.com/foaf/0.1/>     \n",
    "prefix core: <http://purl.uniprot.org/core/>\n",
    "select ?organism ?Picture_URL                             \n",
    "where {\n",
    "    ?taxon  foaf:depiction  ?Picture_URL.       \n",
    "    ?taxon  core:scientificName ?organism.    \n",
    "    filter regex(?organism, '^Arabidopsis thaliana$', 'i'). \n",
    "#To filter I visited this web https://stackoverflow.com/questions/39413155/sparql-on-regex-filter-name\n",
    "}"
   ]
  },
  {
   "cell_type": "markdown",
   "metadata": {},
   "source": [
    "### 4. What is the description of the enzyme activity of UniProt Protein Q9SZZ8 "
   ]
  },
  {
   "cell_type": "code",
   "execution_count": 63,
   "metadata": {},
   "outputs": [
    {
     "data": {
      "text/html": [
       "<div class=\"krn-spql\"><table><tr class=hdr><th>activity_description</th></tr><tr class=odd><td class=val>all-trans-beta-carotene + 4 H(+) + 2 O2 + 4 reduced [2Fe-2S]-[ferredoxin] = all-trans-zeaxanthin + 2 H2O + 4 oxidized [2Fe-2S]-[ferredoxin].</td></tr></table><div class=\"tinfo\">Total: 1, Shown: 1</div></div>"
      ]
     },
     "metadata": {},
     "output_type": "display_data"
    }
   ],
   "source": [
    "prefix core:<http://purl.uniprot.org/core/> \n",
    "prefix uniprot:<http://purl.uniprot.org/uniprot/> \n",
    "\n",
    "select ?activity_description\n",
    "where {\n",
    "    \n",
    "    uniprot:Q9SZZ8 a core:Protein ;core:enzyme ?enz.\n",
    "    ?enz core:activity ?act.       \n",
    "    ?act rdfs:label ?activity_description.        \n",
    "}"
   ]
  },
  {
   "cell_type": "markdown",
   "metadata": {},
   "source": [
    "### 5. Retrieve the proteins ids, and date of submission, for 5 proteins that have been added to UniProt this year   (HINT Google for “SPARQL FILTER by date”)\n"
   ]
  },
  {
   "cell_type": "code",
   "execution_count": 64,
   "metadata": {},
   "outputs": [
    {
     "data": {
      "text/html": [
       "<div class=\"krn-spql\"><table><tr class=hdr><th>id</th>\n",
       "<th>date_of_submission</th></tr><tr class=odd><td class=val>A0A8E0N8L5_ECOLX</td>\n",
       "<td class=val>2022-01-19</td></tr><tr class=even><td class=val>A0A8F9CQZ7_ECOLX</td>\n",
       "<td class=val>2022-01-19</td></tr><tr class=odd><td class=val>A0A8F9ICG9_ECOLX</td>\n",
       "<td class=val>2022-01-19</td></tr><tr class=even><td class=val>A0A8F8WH98_PSEAI</td>\n",
       "<td class=val>2022-01-19</td></tr><tr class=odd><td class=val>A0A8F9NZK3_PSEAI</td>\n",
       "<td class=val>2022-01-19</td></tr></table><div class=\"tinfo\">Total: 5, Shown: 5</div></div>"
      ]
     },
     "metadata": {},
     "output_type": "display_data"
    }
   ],
   "source": [
    "prefix core:<http://purl.uniprot.org/core/> \n",
    "\n",
    "\n",
    "select ?id ?date_of_submission\n",
    "where{\n",
    "    ?protein a core:Protein.             \n",
    "    ?protein core:mnemonic ?id.          \n",
    "    ?protein core:created ?date_of_submission.        \n",
    "    filter contains(xsd:string(?date_of_submission),\"2022\"). #I tried 2023, but every time I execute the cell the appears a message that said the kernel have died\n",
    "#To see contains command I use the web https://stackoverflow.com/questions/28628006/sparql-query-for-partial-match-of-statement-contains\n",
    "#To convert into string I see the web https://graphdb.ontotext.com/documentation/10.1/sparql-functions-reference.html\n",
    "} limit 5"
   ]
  },
  {
   "cell_type": "markdown",
   "metadata": {},
   "source": [
    "### 6. How  many species are in the UniProt taxonomy?"
   ]
  },
  {
   "cell_type": "code",
   "execution_count": 65,
   "metadata": {},
   "outputs": [
    {
     "data": {
      "text/html": [
       "<div class=\"krn-spql\"><table><tr class=hdr><th>Total</th></tr><tr class=odd><td class=val>1995728</td></tr></table><div class=\"tinfo\">Total: 1, Shown: 1</div></div>"
      ]
     },
     "metadata": {},
     "output_type": "display_data"
    }
   ],
   "source": [
    "prefix core:<http://purl.uniprot.org/core/> \n",
    "\n",
    "select (count(?taxon) as ?Total)\n",
    "where{\n",
    "    ?taxon a core:Taxon.          \n",
    "    ?taxon core:rank core:Species.      \n",
    "}"
   ]
  },
  {
   "cell_type": "markdown",
   "metadata": {},
   "source": [
    "### 7. How many species have at least one protein record? (this might take a long time to execute, so do this one last!)"
   ]
  },
  {
   "cell_type": "code",
   "execution_count": 7,
   "metadata": {},
   "outputs": [
    {
     "data": {
      "text/html": [
       "<div class=\"krn-spql\"><table><tr class=hdr><th>Specie_with_at_least_one_protein_Total</th></tr><tr class=odd><td class=val>1078469</td></tr></table><div class=\"tinfo\">Total: 1, Shown: 1</div></div>"
      ]
     },
     "metadata": {},
     "output_type": "display_data"
    }
   ],
   "source": [
    "prefix core: <http://purl.uniprot.org/core/>\n",
    "\n",
    "select (count(distinct ?species) as ?Specie_with_at_least_one_protein_Total)\n",
    "where {\n",
    "    \n",
    "    ?prot a core:Protein.          \n",
    "    ?prot core:organism ?species.   \n",
    "    ?species a core:Taxon.             \n",
    "    ?species core:rank core:Species.   \n",
    "}"
   ]
  },
  {
   "cell_type": "markdown",
   "metadata": {},
   "source": [
    "### 8. Find the AGI codes and gene names for all Arabidopsis thaliana  proteins that have a protein function annotation description that mentions “pattern formation”"
   ]
  },
  {
   "cell_type": "code",
   "execution_count": 2,
   "metadata": {},
   "outputs": [
    {
     "data": {
      "text/html": [
       "<div class=\"krn-spql\"><table><tr class=hdr><th>AGI</th>\n",
       "<th>Name</th></tr><tr class=odd><td class=val>At1g13980</td>\n",
       "<td class=val>GN</td></tr><tr class=even><td class=val>At3g02130</td>\n",
       "<td class=val>RPK2</td></tr><tr class=odd><td class=val>At1g69270</td>\n",
       "<td class=val>RPK1</td></tr><tr class=even><td class=val>At5g37800</td>\n",
       "<td class=val>RSL1</td></tr><tr class=odd><td class=val>At1g26830</td>\n",
       "<td class=val>CUL3A</td></tr><tr class=even><td class=val>At1g66470</td>\n",
       "<td class=val>RHD6</td></tr><tr class=odd><td class=val>At3g09090</td>\n",
       "<td class=val>DEX1</td></tr><tr class=even><td class=val>At5g55250</td>\n",
       "<td class=val>IAMT1</td></tr><tr class=odd><td class=val>At1g63700</td>\n",
       "<td class=val>YDA</td></tr><tr class=even><td class=val>At4g21750</td>\n",
       "<td class=val>ATML1</td></tr><tr class=odd><td class=val>At1g69670</td>\n",
       "<td class=val>CUL3B</td></tr><tr class=even><td class=val>At5g02010</td>\n",
       "<td class=val>ROPGEF7</td></tr><tr class=odd><td class=val>At4g37650</td>\n",
       "<td class=val>SHR</td></tr><tr class=even><td class=val>At3g54220</td>\n",
       "<td class=val>SCR</td></tr><tr class=odd><td class=val>At2g46710</td>\n",
       "<td class=val>ROPGAP3</td></tr><tr class=even><td class=val>At2g42580</td>\n",
       "<td class=val>TTL3</td></tr><tr class=odd><td class=val>At5g40260</td>\n",
       "<td class=val>SWEET8</td></tr></table><div class=\"tinfo\">Total: 17, Shown: 17</div></div>"
      ]
     },
     "metadata": {},
     "output_type": "display_data"
    }
   ],
   "source": [
    "prefix skos:<http://www.w3.org/2004/02/skos/core#> \n",
    "prefix core:<http://purl.uniprot.org/core/> \n",
    "prefix tax:<http://purl.uniprot.org/taxonomy/> \n",
    "\n",
    "select ?AGI ?Name\n",
    "where{ \n",
    "    ?prot a core:Protein.                              \n",
    "    ?prot core:organism tax:3702.                    \n",
    "    ?prot core:annotation ?annotation.\n",
    "    ?annotation a core:Function_Annotation.               \n",
    "    ?annotation rdfs:comment ?comment.                \n",
    "    ?prot core:encodedBy ?gene.                        \n",
    "    ?gene core:locusName ?AGI.                      \n",
    "    ?gene skos:prefLabel ?Name.                     \n",
    "    filter regex( ?comment, 'pattern formation','i') .\n",
    "    \n",
    "} "
   ]
  },
  {
   "cell_type": "markdown",
   "metadata": {},
   "source": [
    "### 9. What is the MetaNetX Reaction identifier (starts with “mnxr”) for the UniProt Protein uniprotkb:Q18A79\n"
   ]
  },
  {
   "cell_type": "code",
   "execution_count": 4,
   "metadata": {},
   "outputs": [
    {
     "data": {
      "text/html": [
       "<div class=\"krn-spql\"><div class=\"magic\">Endpoint set to: https://rdf.metanetx.org/sparql</div></div>"
      ],
      "text/plain": [
       "Endpoint set to: https://rdf.metanetx.org/sparql\n"
      ]
     },
     "metadata": {},
     "output_type": "display_data"
    }
   ],
   "source": [
    "%endpoint https://rdf.metanetx.org/sparql  "
   ]
  },
  {
   "cell_type": "code",
   "execution_count": 4,
   "metadata": {},
   "outputs": [
    {
     "data": {
      "text/html": [
       "<div class=\"krn-spql\"><table><tr class=hdr><th>reaction_id</th></tr><tr class=odd><td class=val>mnxr165934</td></tr><tr class=even><td class=val>mnxr145046c3</td></tr></table><div class=\"tinfo\">Total: 2, Shown: 2</div></div>"
      ]
     },
     "metadata": {},
     "output_type": "display_data"
    }
   ],
   "source": [
    "prefix mnx: <https://rdf.metanetx.org/schema/>\n",
    "prefix uniprot: <http://purl.uniprot.org/uniprot/>\n",
    "\n",
    "select distinct ?reaction_id #I use distintc to avoid the repetitions\n",
    "where{\n",
    "    ?pept mnx:peptXref uniprot:Q18A79 . \n",
    "    ?cata mnx:pept ?pept.       \n",
    "    ?GPR mnx:cata ?cata; mnx:reac ?reaction.              \n",
    "    ?reaction rdfs:label ?reaction_id. \n",
    "    \n",
    "  \n",
    "}"
   ]
  },
  {
   "cell_type": "markdown",
   "metadata": {},
   "source": [
    "### 10. What is the official locus name, and the MetaNetX Reaction identifier (mnxr…..) for the protein that has “glycine reductase” catalytic activity in Clostridium difficile (taxon 272563).   (this must be executed on the https://rdf.metanetx.org/sparql   endpoint)\n"
   ]
  },
  {
   "cell_type": "code",
   "execution_count": 17,
   "metadata": {},
   "outputs": [
    {
     "data": {
      "text/html": [
       "<div class=\"krn-spql\"><table><tr class=hdr><th>LocusName</th>\n",
       "<th>react_id</th></tr><tr class=odd><td class=val>Q185M4_CLOD6</td>\n",
       "<td class=val>mnxr157884c3</td></tr><tr class=even><td class=val>Q185M4_CLOD6</td>\n",
       "<td class=val>mnxr162774c3</td></tr><tr class=odd><td class=val>Q185M6_CLOD6</td>\n",
       "<td class=val>mnxr157884c3</td></tr><tr class=even><td class=val>Q185M6_CLOD6</td>\n",
       "<td class=val>mnxr162774c3</td></tr><tr class=odd><td class=val>Q185M3_CLOD6</td>\n",
       "<td class=val>mnxr157884c3</td></tr><tr class=even><td class=val>Q185M3_CLOD6</td>\n",
       "<td class=val>mnxr162774c3</td></tr><tr class=odd><td class=val>Q185M5_CLOD6</td>\n",
       "<td class=val>mnxr157884c3</td></tr><tr class=even><td class=val>Q185M1_CLOD6</td>\n",
       "<td class=val>mnxr157884c3</td></tr><tr class=odd><td class=val>Q185M1_CLOD6</td>\n",
       "<td class=val>mnxr162774c3</td></tr></table><div class=\"tinfo\">Total: 9, Shown: 9</div></div>"
      ]
     },
     "metadata": {},
     "output_type": "display_data"
    }
   ],
   "source": [
    "prefix mnx: <https://rdf.metanetx.org/schema/>\n",
    "prefix core: <http://purl.uniprot.org/core/>\n",
    "prefix tax: <http://purl.uniprot.org/taxonomy/>\n",
    "\n",
    "#Prepare the selects\n",
    "select distinct ?LocusName ?react_id \n",
    "where\n",
    "{\n",
    "    # The SERVICE function lets me use servers independently of the enpoint; great!\n",
    "    service <http://sparql.uniprot.org/sparql> { \n",
    "        # Code derived from exercise 8\n",
    "        ?prot a core:Protein .\n",
    "        ?prot core:organism tax:272563.\n",
    "        ?prot core:mnemonic ?LocusName.\n",
    "        ?prot core:classifiedWith ?Term.\n",
    "        ?Term rdfs:label ?act.\n",
    "        FILTER regex( ?act, 'glycine reductase','i') .\n",
    "    }\n",
    "    \n",
    "    service <https://rdf.metanetx.org/sparql> {\n",
    "        # Code derived from exercise 9\n",
    "        ?peptide mnx:peptXref ?prot . \n",
    "        ?cat mnx:pept ?peptide.\n",
    "        ?gpr mnx:cata ?cat ;\n",
    "             mnx:reac ?react .\n",
    "        ?react rdfs:label ?react_id.\n",
    "        \n",
    "  }\n",
    "} "
   ]
  },
  {
   "cell_type": "code",
   "execution_count": null,
   "metadata": {},
   "outputs": [],
   "source": []
  }
 ],
 "metadata": {
  "kernelspec": {
   "display_name": "SPARQL",
   "language": "sparql",
   "name": "sparql"
  },
  "language_info": {
   "codemirror_mode": {
    "name": "sparql"
   },
   "mimetype": "application/sparql-query",
   "name": "sparql",
   "pygments_lexer": "sparql-nb"
  }
 },
 "nbformat": 4,
 "nbformat_minor": 5
}
